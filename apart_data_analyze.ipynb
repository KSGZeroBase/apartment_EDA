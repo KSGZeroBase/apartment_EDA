{
 "cells": [
  {
   "cell_type": "code",
   "execution_count": null,
   "id": "b37c9d4a",
   "metadata": {},
   "outputs": [],
   "source": [
    "import pandas as pd\n",
    "import numpy as np\n",
    "import matplotlib.pyplot as plt\n",
    "import seaborn as sns"
   ]
  },
  {
   "cell_type": "code",
   "execution_count": null,
   "id": "1f488a4b",
   "metadata": {},
   "outputs": [],
   "source": [
    "# family = \"AppleGothic\"\n",
    "family = \"Malgun Gothic\"\n",
    "\n",
    "plt.rc('font', family=family)"
   ]
  },
  {
   "cell_type": "code",
   "execution_count": null,
   "id": "e2d25c78",
   "metadata": {},
   "outputs": [],
   "source": [
    "df = pd.read_csv('data/서울특별시/apartment_df.csv', index_col=0)\n",
    "df"
   ]
  },
  {
   "cell_type": "code",
   "execution_count": null,
   "id": "d30d748c",
   "metadata": {},
   "outputs": [],
   "source": [
    "corr_df = df.corr()\n",
    "corr_df"
   ]
  },
  {
   "cell_type": "code",
   "execution_count": null,
   "id": "edb62165",
   "metadata": {},
   "outputs": [],
   "source": [
    "sns.heatmap(corr_df, annot=True, cmap=\"RdYlBu_r\", vmin=-1, vmax=1)"
   ]
  },
  {
   "cell_type": "code",
   "execution_count": null,
   "id": "46bdd213",
   "metadata": {},
   "outputs": [],
   "source": [
    "sns.clustermap(corr_df, annot=True, cmap=\"RdYlBu_r\", vmin=-1, vmax=1)"
   ]
  },
  {
   "cell_type": "code",
   "execution_count": null,
   "id": "420fa64f",
   "metadata": {},
   "outputs": [],
   "source": [
    "df.head(1)"
   ]
  },
  {
   "cell_type": "code",
   "execution_count": null,
   "id": "2e480ddd",
   "metadata": {},
   "outputs": [],
   "source": [
    "sns.boxplot(data=df, sym='r+', y='transaction_real_price')"
   ]
  },
  {
   "cell_type": "code",
   "execution_count": null,
   "id": "2a2b06c3",
   "metadata": {},
   "outputs": [],
   "source": [
    "df.sort_values('transaction_real_price', ascending=False)"
   ]
  },
  {
   "cell_type": "code",
   "execution_count": null,
   "id": "ff29c489",
   "metadata": {},
   "outputs": [],
   "source": []
  },
  {
   "cell_type": "code",
   "execution_count": null,
   "id": "b497313e",
   "metadata": {},
   "outputs": [],
   "source": [
    "location = pd.read_csv('data/동별좌표.csv')\n",
    "location"
   ]
  },
  {
   "cell_type": "code",
   "execution_count": null,
   "id": "8cee25c9",
   "metadata": {},
   "outputs": [],
   "source": [
    "def search_location(dong):\n",
    "    try : \n",
    "        dong_data = location[location['동'] == dong].iloc[0]\n",
    "        return (dong_data['loc'], dong_data['lat'])\n",
    "    except :\n",
    "        print(dong)\n",
    "        return (np.nan, np.nan)"
   ]
  },
  {
   "cell_type": "code",
   "execution_count": null,
   "id": "c344a350",
   "metadata": {},
   "outputs": [],
   "source": [
    "len(np.unique(df['dong']))"
   ]
  },
  {
   "cell_type": "code",
   "execution_count": null,
   "id": "7aad6d7d",
   "metadata": {},
   "outputs": [],
   "source": [
    "price_for_dong = df.groupby('dong').mean()[['transaction_real_price']]\n",
    "price_for_dong = price_for_dong.reset_index()\n",
    "price_for_dong"
   ]
  },
  {
   "cell_type": "code",
   "execution_count": null,
   "id": "d801e852",
   "metadata": {},
   "outputs": [],
   "source": [
    "count_for_dong = df.groupby('dong').count()[['transaction_real_price']]\n",
    "count_for_dong = count_for_dong.reset_index()\n",
    "count_for_dong"
   ]
  },
  {
   "cell_type": "code",
   "execution_count": null,
   "id": "87be5f6a",
   "metadata": {},
   "outputs": [],
   "source": [
    "merge_df = pd.merge(price_for_dong, count_for_dong, on='dong')\n",
    "merge_df.columns = ['dong', 'mean_price', 'count']\n",
    "merge_df"
   ]
  },
  {
   "cell_type": "code",
   "execution_count": null,
   "id": "38a9cccb",
   "metadata": {},
   "outputs": [],
   "source": [
    "merge_df[['loc', 'lat']] = merge_df['dong'].apply(search_location).apply(pd.Series)\n",
    "merge_df"
   ]
  },
  {
   "cell_type": "code",
   "execution_count": null,
   "id": "63ef04cb",
   "metadata": {},
   "outputs": [],
   "source": []
  },
  {
   "cell_type": "code",
   "execution_count": null,
   "id": "bbd37835",
   "metadata": {},
   "outputs": [],
   "source": [
    "sns.scatterplot(data=merge_df, x='lat', y='loc', hue='dong', size='mean_price', sizes=(10, 200), legend=False)"
   ]
  },
  {
   "cell_type": "code",
   "execution_count": null,
   "id": "4aab2e07",
   "metadata": {},
   "outputs": [],
   "source": [
    "import plotly.express as px\n",
    "fig = px.scatter(merge_df, x='lat', y='loc', color='dong', size='mean_price')\n",
    "fig.show()"
   ]
  },
  {
   "cell_type": "code",
   "execution_count": null,
   "id": "a9c9879f",
   "metadata": {},
   "outputs": [],
   "source": [
    "sns.scatterplot(data=merge_df, x='lat', y='loc', hue='dong', size='count', sizes=(10, 200), legend=False)"
   ]
  },
  {
   "cell_type": "code",
   "execution_count": null,
   "id": "27107fef",
   "metadata": {},
   "outputs": [],
   "source": [
    "import plotly.express as px\n",
    "fig = px.scatter(merge_df, x='lat', y='loc', color='dong', size='count')\n",
    "fig.show()"
   ]
  },
  {
   "cell_type": "code",
   "execution_count": null,
   "id": "5408881b",
   "metadata": {},
   "outputs": [],
   "source": [
    "# !pip install folium"
   ]
  },
  {
   "cell_type": "code",
   "execution_count": null,
   "id": "069b6d8a",
   "metadata": {},
   "outputs": [],
   "source": [
    "import folium\n",
    "\n",
    "m = folium.Map(location=[37.5, 127], zoom_start=11)\n",
    "m"
   ]
  },
  {
   "cell_type": "code",
   "execution_count": null,
   "id": "98168843",
   "metadata": {},
   "outputs": [],
   "source": [
    "for idx, row in merge_df.iterrows():\n",
    "    location = [row['loc'], row['lat']]\n",
    "    folium.CircleMarker(\n",
    "        location=location,\n",
    "        popup=row['dong'] + str(int(row['mean_price'])),\n",
    "        radius=row['mean_price']/10000,\n",
    "        fill=True,\n",
    "    ).add_to(m)\n",
    "m   "
   ]
  },
  {
   "cell_type": "code",
   "execution_count": null,
   "id": "d16bd91d",
   "metadata": {
    "scrolled": true
   },
   "outputs": [],
   "source": [
    "for idx, row in merge_df.iterrows():\n",
    "    location = [row['loc'], row['lat']]\n",
    "    folium.CircleMarker(\n",
    "        location=location,\n",
    "        popup=row['dong'] + str(int(row['count'])),\n",
    "        radius=row['count']/1000,\n",
    "        color='red',\n",
    "        fill=True,\n",
    "    ).add_to(m)\n",
    "m   "
   ]
  },
  {
   "cell_type": "code",
   "execution_count": null,
   "id": "c61ad92f",
   "metadata": {},
   "outputs": [],
   "source": []
  },
  {
   "cell_type": "markdown",
   "id": "a862c4fd",
   "metadata": {},
   "source": [
    "#### 의미있는 컬럼을 더 만들어보자"
   ]
  },
  {
   "cell_type": "code",
   "execution_count": null,
   "id": "b5967d47",
   "metadata": {},
   "outputs": [],
   "source": []
  },
  {
   "cell_type": "code",
   "execution_count": null,
   "id": "e0bed0e5",
   "metadata": {},
   "outputs": [],
   "source": [
    "df['transaction_year'] = (df['transaction_year_month']/100).astype(int)\n",
    "df['transaction_month'] = df['transaction_year_month']%100\n",
    "df"
   ]
  },
  {
   "cell_type": "code",
   "execution_count": null,
   "id": "04154010",
   "metadata": {},
   "outputs": [],
   "source": [
    "df['transaction_date_first'] = df['transaction_date'].str.split('~').str[0].astype(int)\n",
    "df"
   ]
  },
  {
   "cell_type": "code",
   "execution_count": null,
   "id": "a30eec9c",
   "metadata": {},
   "outputs": [],
   "source": [
    "df['real_price_per_m2'] = df['transaction_real_price'] / df['exclusive_use_area']\n",
    "df"
   ]
  },
  {
   "cell_type": "code",
   "execution_count": null,
   "id": "18d4ae10",
   "metadata": {},
   "outputs": [],
   "source": []
  },
  {
   "cell_type": "code",
   "execution_count": null,
   "id": "16b04dab",
   "metadata": {},
   "outputs": [],
   "source": [
    "dong_groupby = df.groupby('dong').mean()\n",
    "dong_groupby"
   ]
  },
  {
   "cell_type": "code",
   "execution_count": null,
   "id": "7c1361e7",
   "metadata": {},
   "outputs": [],
   "source": [
    "corr_df = dong_groupby.corr()"
   ]
  },
  {
   "cell_type": "code",
   "execution_count": null,
   "id": "a67d1f8b",
   "metadata": {},
   "outputs": [],
   "source": [
    "sns.clustermap(corr_df, annot=True, cmap=\"RdYlBu_r\", vmin=-1, vmax=1)"
   ]
  },
  {
   "cell_type": "code",
   "execution_count": null,
   "id": "6f909764",
   "metadata": {},
   "outputs": [],
   "source": [
    "dong_groupby = dong_groupby[['exclusive_use_area', 'transaction_real_price', 'real_price_per_m2']].reset_index()\n",
    "dong_groupby"
   ]
  },
  {
   "cell_type": "code",
   "execution_count": null,
   "id": "af5feec6",
   "metadata": {},
   "outputs": [],
   "source": [
    "dong_groupby.columns = [\"dong_\" + column if column != 'dong'else column for column in dong_groupby.columns ]\n",
    "dong_groupby"
   ]
  },
  {
   "cell_type": "code",
   "execution_count": null,
   "id": "fc0acd6a",
   "metadata": {},
   "outputs": [],
   "source": [
    "df = pd.merge(df, dong_groupby, on='dong')"
   ]
  },
  {
   "cell_type": "code",
   "execution_count": null,
   "id": "094fbcd7",
   "metadata": {},
   "outputs": [],
   "source": [
    "apart_groupby = df.groupby('apartment_id').mean()"
   ]
  },
  {
   "cell_type": "code",
   "execution_count": null,
   "id": "f7efb741",
   "metadata": {},
   "outputs": [],
   "source": [
    "corr_df = apart_groupby.corr()"
   ]
  },
  {
   "cell_type": "code",
   "execution_count": null,
   "id": "dd02b8db",
   "metadata": {},
   "outputs": [],
   "source": [
    "sns.clustermap(corr_df, annot=True, cmap=\"RdYlBu_r\", vmin=-1, vmax=1)"
   ]
  },
  {
   "cell_type": "code",
   "execution_count": null,
   "id": "8c2596b8",
   "metadata": {},
   "outputs": [],
   "source": [
    "apart_groupby = apart_groupby[['exclusive_use_area', 'transaction_real_price', 'real_price_per_m2']].reset_index()\n",
    "apart_groupby"
   ]
  },
  {
   "cell_type": "code",
   "execution_count": null,
   "id": "01d4339c",
   "metadata": {},
   "outputs": [],
   "source": [
    "apart_groupby.columns = [\"apart_\" + column if column != 'apartment_id'else column for column in apart_groupby.columns ]\n",
    "apart_groupby"
   ]
  },
  {
   "cell_type": "code",
   "execution_count": null,
   "id": "4f0e51b0",
   "metadata": {},
   "outputs": [],
   "source": [
    "df = pd.merge(df, apart_groupby)\n",
    "df"
   ]
  },
  {
   "cell_type": "code",
   "execution_count": null,
   "id": "3fc4db85",
   "metadata": {},
   "outputs": [],
   "source": []
  },
  {
   "cell_type": "code",
   "execution_count": null,
   "id": "d40f52b9",
   "metadata": {},
   "outputs": [],
   "source": [
    "corr_df = df.corr()"
   ]
  },
  {
   "cell_type": "code",
   "execution_count": null,
   "id": "c3a9d043",
   "metadata": {},
   "outputs": [],
   "source": [
    "sns.heatmap(corr_df, annot=True, fmt='.1f', cmap='RdYlBu_r', vmin=-1, vmax=1, cbar=False)"
   ]
  },
  {
   "cell_type": "code",
   "execution_count": null,
   "id": "c1581180",
   "metadata": {},
   "outputs": [],
   "source": [
    "sns.clustermap(corr_df, annot=True, fmt='.1f', cmap='RdYlBu_r', vmin=-1, vmax=1, cbar=False)"
   ]
  }
 ],
 "metadata": {
  "kernelspec": {
   "display_name": "Python 3 (ipykernel)",
   "language": "python",
   "name": "python3"
  },
  "language_info": {
   "codemirror_mode": {
    "name": "ipython",
    "version": 3
   },
   "file_extension": ".py",
   "mimetype": "text/x-python",
   "name": "python",
   "nbconvert_exporter": "python",
   "pygments_lexer": "ipython3",
   "version": "3.11.3"
  }
 },
 "nbformat": 4,
 "nbformat_minor": 5
}
