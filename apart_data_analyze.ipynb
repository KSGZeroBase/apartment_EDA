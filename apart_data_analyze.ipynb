{
 "cells": [
  {
   "cell_type": "code",
   "execution_count": null,
   "id": "b37c9d4a",
   "metadata": {},
   "outputs": [],
   "source": [
    "import pandas as pd\n",
    "import numpy as np\n",
    "import matplotlib.pyplot as plt\n",
    "import seaborn as sns"
   ]
  },
  {
   "cell_type": "code",
   "execution_count": null,
   "id": "1f488a4b",
   "metadata": {},
   "outputs": [],
   "source": [
    "# family = \"AppleGothic\"\n",
    "family = \"Malgun Gothic\"\n",
    "\n",
    "plt.rc('font', family=family)"
   ]
  },
  {
   "cell_type": "code",
   "execution_count": null,
   "id": "e2d25c78",
   "metadata": {},
   "outputs": [],
   "source": [
    "df = pd.read_csv('data/서울특별시/apartment_df.csv', index_col=0)\n",
    "df"
   ]
  },
  {
   "cell_type": "code",
   "execution_count": null,
   "id": "d30d748c",
   "metadata": {},
   "outputs": [],
   "source": [
    "corr_df = df.corr()\n",
    "corr_df"
   ]
  },
  {
   "cell_type": "code",
   "execution_count": null,
   "id": "edb62165",
   "metadata": {},
   "outputs": [],
   "source": [
    "sns.heatmap(corr_df, annot=True, cmap=\"RdYlBu_r\", vmin=-1, vmax=1)"
   ]
  },
  {
   "cell_type": "code",
   "execution_count": null,
   "id": "46bdd213",
   "metadata": {},
   "outputs": [],
   "source": [
    "sns.clustermap(corr_df, annot=True, cmap=\"RdYlBu_r\", vmin=-1, vmax=1)"
   ]
  },
  {
   "cell_type": "code",
   "execution_count": null,
   "id": "420fa64f",
   "metadata": {},
   "outputs": [],
   "source": [
    "df.head(1)"
   ]
  },
  {
   "cell_type": "code",
   "execution_count": null,
   "id": "2e480ddd",
   "metadata": {},
   "outputs": [],
   "source": [
    "sns.boxplot(data=df, sym='r+', y='transaction_real_price')"
   ]
  },
  {
   "cell_type": "code",
   "execution_count": null,
   "id": "2a2b06c3",
   "metadata": {},
   "outputs": [],
   "source": [
    "df.sort_values('transaction_real_price', ascending=False)"
   ]
  },
  {
   "cell_type": "code",
   "execution_count": null,
   "id": "ff29c489",
   "metadata": {},
   "outputs": [],
   "source": []
  },
  {
   "cell_type": "code",
   "execution_count": null,
   "id": "b497313e",
   "metadata": {},
   "outputs": [],
   "source": [
    "location = pd.read_csv('data/동별좌표.csv')\n",
    "location"
   ]
  },
  {
   "cell_type": "code",
   "execution_count": null,
   "id": "8cee25c9",
   "metadata": {},
   "outputs": [],
   "source": [
    "def search_location(dong):\n",
    "    try : \n",
    "        dong_data = location[location['동'] == dong].iloc[0]\n",
    "        return (dong_data['loc'], dong_data['lat'])\n",
    "    except :\n",
    "        print(dong)\n",
    "        return (np.nan, np.nan)"
   ]
  },
  {
   "cell_type": "code",
   "execution_count": null,
   "id": "c344a350",
   "metadata": {},
   "outputs": [],
   "source": [
    "len(np.unique(df['dong']))"
   ]
  },
  {
   "cell_type": "code",
   "execution_count": null,
   "id": "7aad6d7d",
   "metadata": {},
   "outputs": [],
   "source": [
    "price_for_dong = df.groupby('dong').mean()[['transaction_real_price']]\n",
    "price_for_dong = price_for_dong.reset_index()\n",
    "price_for_dong"
   ]
  },
  {
   "cell_type": "code",
   "execution_count": null,
   "id": "d801e852",
   "metadata": {},
   "outputs": [],
   "source": [
    "count_for_dong = df.groupby('dong').count()[['transaction_real_price']]\n",
    "count_for_dong = count_for_dong.reset_index()\n",
    "count_for_dong"
   ]
  },
  {
   "cell_type": "code",
   "execution_count": null,
   "id": "87be5f6a",
   "metadata": {},
   "outputs": [],
   "source": [
    "merge_df = pd.merge(price_for_dong, count_for_dong, on='dong')\n",
    "merge_df.columns = ['dong', 'mean_price', 'count']\n",
    "merge_df"
   ]
  },
  {
   "cell_type": "code",
   "execution_count": null,
   "id": "38a9cccb",
   "metadata": {},
   "outputs": [],
   "source": [
    "merge_df[['loc', 'lat']] = merge_df['dong'].apply(search_location).apply(pd.Series)\n",
    "merge_df"
   ]
  },
  {
   "cell_type": "code",
   "execution_count": null,
   "id": "63ef04cb",
   "metadata": {},
   "outputs": [],
   "source": []
  },
  {
   "cell_type": "code",
   "execution_count": null,
   "id": "bbd37835",
   "metadata": {},
   "outputs": [],
   "source": [
    "sns.scatterplot(data=merge_df, x='lat', y='loc', hue='dong', size='mean_price', sizes=(10, 200), legend=False)"
   ]
  },
  {
   "cell_type": "code",
   "execution_count": null,
   "id": "4aab2e07",
   "metadata": {},
   "outputs": [],
   "source": [
    "import plotly.express as px\n",
    "fig = px.scatter(merge_df, x='lat', y='loc', color='dong', size='mean_price')\n",
    "fig.show()"
   ]
  },
  {
   "cell_type": "code",
   "execution_count": null,
   "id": "a9c9879f",
   "metadata": {},
   "outputs": [],
   "source": [
    "sns.scatterplot(data=merge_df, x='lat', y='loc', hue='dong', size='count', sizes=(10, 200), legend=False)"
   ]
  },
  {
   "cell_type": "code",
   "execution_count": null,
   "id": "27107fef",
   "metadata": {},
   "outputs": [],
   "source": [
    "import plotly.express as px\n",
    "fig = px.scatter(merge_df, x='lat', y='loc', color='dong', size='count')\n",
    "fig.show()"
   ]
  },
  {
   "cell_type": "code",
   "execution_count": null,
   "id": "57a6f2ff",
   "metadata": {},
   "outputs": [],
   "source": [
    "# !pip install folium"
   ]
  },
  {
   "cell_type": "code",
   "execution_count": null,
   "id": "1f688aad",
   "metadata": {},
   "outputs": [],
   "source": [
    "import folium\n",
    "\n",
    "m = folium.Map(location=[37.5, 127], zoom_start=11)\n",
    "m"
   ]
  },
  {
   "cell_type": "code",
   "execution_count": null,
   "id": "27d7a2ef",
   "metadata": {},
   "outputs": [],
   "source": [
    "for idx, row in merge_df.iterrows():\n",
    "    location = [row['loc'], row['lat']]\n",
    "    folium.CircleMarker(\n",
    "        location=location,\n",
    "        popup=row['dong'] + str(int(row['mean_price'])),\n",
    "        radius=row['mean_price']/10000,\n",
    "        fill=True,\n",
    "    ).add_to(m)\n",
    "m   "
   ]
  },
  {
   "cell_type": "code",
   "execution_count": null,
   "id": "2d0eafb5",
   "metadata": {
    "scrolled": true
   },
   "outputs": [],
   "source": [
    "for idx, row in merge_df.iterrows():\n",
    "    location = [row['loc'], row['lat']]\n",
    "    folium.CircleMarker(\n",
    "        location=location,\n",
    "        popup=row['dong'] + str(int(row['count'])),\n",
    "        radius=row['count']/1000,\n",
    "        color='red',\n",
    "        fill=True,\n",
    "    ).add_to(m)\n",
    "m   "
   ]
  },
  {
   "cell_type": "code",
   "execution_count": null,
   "id": "aeb7690e",
   "metadata": {},
   "outputs": [],
   "source": []
  },
  {
   "cell_type": "markdown",
   "id": "c3edf40e",
   "metadata": {},
   "source": [
    "#### 의미있는 컬럼을 더 만들어보자"
   ]
  },
  {
   "cell_type": "code",
   "execution_count": null,
   "id": "a0ee6494",
   "metadata": {},
   "outputs": [],
   "source": []
  },
  {
   "cell_type": "code",
   "execution_count": null,
   "id": "ab33781f",
   "metadata": {},
   "outputs": [],
   "source": [
    "df['transaction_year'] = (df['transaction_year_month']/100).astype(int)\n",
    "df['transaction_month'] = df['transaction_year_month']%100\n",
    "df"
   ]
  },
  {
   "cell_type": "code",
   "execution_count": null,
   "id": "3b1d4a37",
   "metadata": {},
   "outputs": [],
   "source": [
    "df['transaction_date_first'] = df['transaction_date'].str.split('~').str[0].astype(int)\n",
    "df"
   ]
  },
  {
   "cell_type": "code",
   "execution_count": null,
   "id": "dcf5833f",
   "metadata": {},
   "outputs": [],
   "source": [
    "df['real_price_per_m2'] = df['transaction_real_price'] / df['exclusive_use_area']\n",
    "df"
   ]
  },
  {
   "cell_type": "code",
   "execution_count": null,
   "id": "a052e313",
   "metadata": {},
   "outputs": [],
   "source": []
  },
  {
   "cell_type": "code",
   "execution_count": null,
   "id": "c889b76b",
   "metadata": {},
   "outputs": [],
   "source": [
    "dong_groupby = df.groupby('dong').mean()\n",
    "dong_groupby"
   ]
  },
  {
   "cell_type": "code",
   "execution_count": null,
   "id": "b6f77f55",
   "metadata": {},
   "outputs": [],
   "source": [
    "corr_df = dong_groupby.corr()"
   ]
  },
  {
   "cell_type": "code",
   "execution_count": null,
   "id": "6d3287bf",
   "metadata": {},
   "outputs": [],
   "source": [
    "sns.clustermap(corr_df, annot=True, cmap=\"RdYlBu_r\", vmin=-1, vmax=1)"
   ]
  },
  {
   "cell_type": "code",
   "execution_count": null,
   "id": "496697de",
   "metadata": {},
   "outputs": [],
   "source": [
    "dong_groupby = dong_groupby[['exclusive_use_area', 'transaction_real_price', 'real_price_per_m2']].reset_index()\n",
    "dong_groupby"
   ]
  },
  {
   "cell_type": "code",
   "execution_count": null,
   "id": "4996c2c8",
   "metadata": {},
   "outputs": [],
   "source": [
    "dong_groupby.columns = [\"dong_\" + column if column != 'dong'else column for column in dong_groupby.columns ]\n",
    "dong_groupby"
   ]
  },
  {
   "cell_type": "code",
   "execution_count": null,
   "id": "e18a2c45",
   "metadata": {},
   "outputs": [],
   "source": [
    "df = pd.merge(df, dong_groupby, on='dong')"
   ]
  },
  {
   "cell_type": "code",
   "execution_count": null,
   "id": "f9052cfb",
   "metadata": {},
   "outputs": [],
   "source": [
    "apart_groupby = df.groupby('apartment_id').mean()"
   ]
  },
  {
   "cell_type": "code",
   "execution_count": null,
   "id": "60731c3e",
   "metadata": {},
   "outputs": [],
   "source": [
    "corr_df = apart_groupby.corr()"
   ]
  },
  {
   "cell_type": "code",
   "execution_count": null,
   "id": "e6ce5b35",
   "metadata": {},
   "outputs": [],
   "source": [
    "sns.clustermap(corr_df, annot=True, cmap=\"RdYlBu_r\", vmin=-1, vmax=1)"
   ]
  },
  {
   "cell_type": "code",
   "execution_count": null,
   "id": "94371db8",
   "metadata": {},
   "outputs": [],
   "source": [
    "apart_groupby = apart_groupby[['exclusive_use_area', 'transaction_real_price', 'real_price_per_m2']].reset_index()\n",
    "apart_groupby"
   ]
  },
  {
   "cell_type": "code",
   "execution_count": null,
   "id": "74aeb6d0",
   "metadata": {},
   "outputs": [],
   "source": [
    "apart_groupby.columns = [\"apart_\" + column if column != 'apartment_id'else column for column in apart_groupby.columns ]\n",
    "apart_groupby"
   ]
  },
  {
   "cell_type": "code",
   "execution_count": null,
   "id": "27255923",
   "metadata": {},
   "outputs": [],
   "source": [
    "df = pd.merge(df, apart_groupby)\n",
    "df"
   ]
  },
  {
   "cell_type": "code",
   "execution_count": null,
   "id": "12196c7e",
   "metadata": {},
   "outputs": [],
   "source": []
  },
  {
   "cell_type": "code",
   "execution_count": null,
   "id": "1b84203e",
   "metadata": {},
   "outputs": [],
   "source": [
    "corr_df = df.corr()"
   ]
  },
  {
   "cell_type": "code",
   "execution_count": null,
   "id": "b607738a",
   "metadata": {},
   "outputs": [],
   "source": [
    "sns.heatmap(corr_df, annot=True, fmt='.1f', cmap='RdYlBu_r', vmin=-1, vmax=1, cbar=False)"
   ]
  },
  {
   "cell_type": "code",
   "execution_count": null,
   "id": "eabe46c1",
   "metadata": {
    "scrolled": false
   },
   "outputs": [],
   "source": [
    "sns.clustermap(corr_df, annot=True, fmt='.1f', cmap='RdYlBu_r', vmin=-1, vmax=1, cbar=False)"
   ]
  },
  {
   "cell_type": "code",
   "execution_count": null,
   "id": "f590fde8",
   "metadata": {},
   "outputs": [],
   "source": [
    "df.columns"
   ]
  },
  {
   "cell_type": "code",
   "execution_count": null,
   "id": "a4b6d5e3",
   "metadata": {},
   "outputs": [],
   "source": [
    "sns.boxplot(data=df, sym='r+',y='apart_real_price_per_m2')"
   ]
  },
  {
   "cell_type": "code",
   "execution_count": null,
   "id": "35eb7017",
   "metadata": {},
   "outputs": [],
   "source": [
    "sns.boxplot(data=df, sym='r+',y='real_price_per_m2')"
   ]
  },
  {
   "cell_type": "code",
   "execution_count": null,
   "id": "33bccc7f",
   "metadata": {
    "scrolled": true
   },
   "outputs": [],
   "source": [
    "df.sort_values('apart_real_price_per_m2', ascending=False)"
   ]
  },
  {
   "cell_type": "code",
   "execution_count": null,
   "id": "ff9bc607",
   "metadata": {},
   "outputs": [],
   "source": []
  },
  {
   "cell_type": "code",
   "execution_count": null,
   "id": "5650e534",
   "metadata": {},
   "outputs": [],
   "source": [
    "location = pd.read_csv('data/동별좌표.csv')\n",
    "location"
   ]
  },
  {
   "cell_type": "code",
   "execution_count": null,
   "id": "cf0a2ae0",
   "metadata": {
    "scrolled": true
   },
   "outputs": [],
   "source": [
    "price_for_dong = df.groupby('dong').mean()[['real_price_per_m2']]\n",
    "price_for_dong = price_for_dong.reset_index()\n",
    "price_for_dong"
   ]
  },
  {
   "cell_type": "code",
   "execution_count": null,
   "id": "cb9152ca",
   "metadata": {},
   "outputs": [],
   "source": [
    "price_for_dong = pd.merge(price_for_dong, location, left_on='dong', right_on='동', how=\"inner\")\n",
    "price_for_dong"
   ]
  },
  {
   "cell_type": "code",
   "execution_count": null,
   "id": "12cff653",
   "metadata": {},
   "outputs": [],
   "source": [
    "price_for_dong = price_for_dong.drop_duplicates('dong', keep='first')"
   ]
  },
  {
   "cell_type": "code",
   "execution_count": null,
   "id": "a65623f5",
   "metadata": {},
   "outputs": [],
   "source": [
    "sns.scatterplot(data=price_for_dong, x='lat', y='loc', hue='dong', size='real_price_per_m2', sizes=(10, 200), legend=False )\n",
    "plt.show()"
   ]
  },
  {
   "cell_type": "code",
   "execution_count": null,
   "id": "c7366fa2",
   "metadata": {},
   "outputs": [],
   "source": [
    "px.scatter(price_for_dong, x='lat', y='loc', color='dong', size='real_price_per_m2')"
   ]
  }
 ],
 "metadata": {
  "kernelspec": {
   "display_name": "Python 3 (ipykernel)",
   "language": "python",
   "name": "python3"
  },
  "language_info": {
   "codemirror_mode": {
    "name": "ipython",
    "version": 3
   },
   "file_extension": ".py",
   "mimetype": "text/x-python",
   "name": "python",
   "nbconvert_exporter": "python",
   "pygments_lexer": "ipython3",
   "version": "3.11.3"
  }
 },
 "nbformat": 4,
 "nbformat_minor": 5
}
