{
 "cells": [
  {
   "cell_type": "code",
   "execution_count": null,
   "id": "b37c9d4a",
   "metadata": {},
   "outputs": [],
   "source": [
    "import pandas as pd\n",
    "import numpy as np\n",
    "import matplotlib.pyplot as plt\n",
    "import seaborn as sns"
   ]
  },
  {
   "cell_type": "code",
   "execution_count": null,
   "id": "1f488a4b",
   "metadata": {},
   "outputs": [],
   "source": [
    "# family = \"AppleGothic\"\n",
    "family = \"Malgun Gothic\"\n",
    "\n",
    "plt.rc('font', family=family)"
   ]
  },
  {
   "cell_type": "code",
   "execution_count": null,
   "id": "e2d25c78",
   "metadata": {},
   "outputs": [],
   "source": [
    "df = pd.read_csv('data/서울특별시/apartment_df.csv', index_col=0)\n",
    "df"
   ]
  },
  {
   "cell_type": "code",
   "execution_count": null,
   "id": "d30d748c",
   "metadata": {},
   "outputs": [],
   "source": [
    "corr_df = df.corr()\n",
    "corr_df"
   ]
  },
  {
   "cell_type": "code",
   "execution_count": null,
   "id": "edb62165",
   "metadata": {},
   "outputs": [],
   "source": [
    "sns.heatmap(corr_df, annot=True, cmap=\"RdYlBu_r\", vmin=-1, vmax=1)"
   ]
  },
  {
   "cell_type": "code",
   "execution_count": null,
   "id": "46bdd213",
   "metadata": {},
   "outputs": [],
   "source": [
    "sns.clustermap(corr_df, annot=True, cmap=\"RdYlBu_r\", vmin=-1, vmax=1)"
   ]
  },
  {
   "cell_type": "code",
   "execution_count": null,
   "id": "420fa64f",
   "metadata": {},
   "outputs": [],
   "source": [
    "df.head(1)"
   ]
  },
  {
   "cell_type": "code",
   "execution_count": null,
   "id": "2e480ddd",
   "metadata": {},
   "outputs": [],
   "source": [
    "sns.boxplot(data=df, sym='r+', y='transaction_real_price')"
   ]
  },
  {
   "cell_type": "code",
   "execution_count": null,
   "id": "2a2b06c3",
   "metadata": {},
   "outputs": [],
   "source": [
    "df.sort_values('transaction_real_price', ascending=False)"
   ]
  },
  {
   "cell_type": "code",
   "execution_count": null,
   "id": "ff29c489",
   "metadata": {},
   "outputs": [],
   "source": []
  },
  {
   "cell_type": "code",
   "execution_count": null,
   "id": "b497313e",
   "metadata": {},
   "outputs": [],
   "source": [
    "location = pd.read_csv('data/동별좌표.csv')\n",
    "location"
   ]
  },
  {
   "cell_type": "code",
   "execution_count": null,
   "id": "8cee25c9",
   "metadata": {},
   "outputs": [],
   "source": [
    "def search_location(dong):\n",
    "    try : \n",
    "        dong_data = location[location['동'] == dong].iloc[0]\n",
    "        return (dong_data['loc'], dong_data['lat'])\n",
    "    except :\n",
    "        print(dong)\n",
    "        return (np.nan, np.nan)"
   ]
  },
  {
   "cell_type": "code",
   "execution_count": null,
   "id": "c344a350",
   "metadata": {},
   "outputs": [],
   "source": [
    "len(np.unique(df['dong']))"
   ]
  },
  {
   "cell_type": "code",
   "execution_count": null,
   "id": "7aad6d7d",
   "metadata": {},
   "outputs": [],
   "source": [
    "price_for_dong = df.groupby('dong').mean()[['transaction_real_price']]\n",
    "price_for_dong = price_for_dong.reset_index()\n",
    "price_for_dong"
   ]
  },
  {
   "cell_type": "code",
   "execution_count": null,
   "id": "d801e852",
   "metadata": {},
   "outputs": [],
   "source": [
    "count_for_dong = df.groupby('dong').count()[['transaction_real_price']]\n",
    "count_for_dong = count_for_dong.reset_index()\n",
    "count_for_dong"
   ]
  },
  {
   "cell_type": "code",
   "execution_count": null,
   "id": "87be5f6a",
   "metadata": {},
   "outputs": [],
   "source": [
    "merge_df = pd.merge(price_for_dong, count_for_dong, on='dong')\n",
    "merge_df.columns = ['dong', 'mean_price', 'count']\n",
    "merge_df"
   ]
  },
  {
   "cell_type": "code",
   "execution_count": null,
   "id": "38a9cccb",
   "metadata": {},
   "outputs": [],
   "source": [
    "merge_df[['loc', 'lat']] = merge_df['dong'].apply(search_location).apply(pd.Series)\n",
    "merge_df"
   ]
  },
  {
   "cell_type": "code",
   "execution_count": null,
   "id": "63ef04cb",
   "metadata": {},
   "outputs": [],
   "source": []
  },
  {
   "cell_type": "code",
   "execution_count": null,
   "id": "bbd37835",
   "metadata": {},
   "outputs": [],
   "source": [
    "sns.scatterplot(data=merge_df, x='lat', y='loc', hue='dong', size='mean_price', sizes=(10, 200), legend=False)"
   ]
  },
  {
   "cell_type": "code",
   "execution_count": null,
   "id": "4aab2e07",
   "metadata": {},
   "outputs": [],
   "source": [
    "import plotly.express as px\n",
    "fig = px.scatter(merge_df, x='lat', y='loc', color='dong', size='mean_price')\n",
    "fig.show()"
   ]
  },
  {
   "cell_type": "code",
   "execution_count": null,
   "id": "a9c9879f",
   "metadata": {},
   "outputs": [],
   "source": [
    "sns.scatterplot(data=merge_df, x='lat', y='loc', hue='dong', size='count', sizes=(10, 200), legend=False)"
   ]
  },
  {
   "cell_type": "code",
   "execution_count": null,
   "id": "27107fef",
   "metadata": {},
   "outputs": [],
   "source": [
    "import plotly.express as px\n",
    "fig = px.scatter(merge_df, x='lat', y='loc', color='dong', size='count')\n",
    "fig.show()"
   ]
  }
 ],
 "metadata": {
  "kernelspec": {
   "display_name": "Python 3 (ipykernel)",
   "language": "python",
   "name": "python3"
  },
  "language_info": {
   "codemirror_mode": {
    "name": "ipython",
    "version": 3
   },
   "file_extension": ".py",
   "mimetype": "text/x-python",
   "name": "python",
   "nbconvert_exporter": "python",
   "pygments_lexer": "ipython3",
   "version": "3.11.3"
  }
 },
 "nbformat": 4,
 "nbformat_minor": 5
}
