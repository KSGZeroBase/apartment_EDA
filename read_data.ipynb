{
 "cells": [
  {
   "cell_type": "code",
   "execution_count": null,
   "id": "b77bc70b",
   "metadata": {},
   "outputs": [],
   "source": [
    "import pandas as pd"
   ]
  },
  {
   "cell_type": "code",
   "execution_count": null,
   "id": "eca90217",
   "metadata": {},
   "outputs": [],
   "source": [
    "apartment_df = pd.read_csv('data/train.csv')"
   ]
  },
  {
   "cell_type": "code",
   "execution_count": null,
   "id": "44d3cd41",
   "metadata": {},
   "outputs": [],
   "source": [
    "park_df = pd.read_csv('data/park.csv')"
   ]
  },
  {
   "cell_type": "code",
   "execution_count": null,
   "id": "bf2374cc",
   "metadata": {},
   "outputs": [],
   "source": [
    "day_care_center_df = pd.read_csv('data/day_care_center.csv')"
   ]
  },
  {
   "cell_type": "code",
   "execution_count": null,
   "id": "258e8bc4",
   "metadata": {},
   "outputs": [],
   "source": []
  },
  {
   "cell_type": "code",
   "execution_count": null,
   "id": "13d04fac",
   "metadata": {},
   "outputs": [],
   "source": [
    "apartment_df.info()"
   ]
  },
  {
   "cell_type": "code",
   "execution_count": null,
   "id": "b0c5fa88",
   "metadata": {},
   "outputs": [],
   "source": [
    "import numpy as np"
   ]
  },
  {
   "cell_type": "code",
   "execution_count": null,
   "id": "fd3e1d3f",
   "metadata": {},
   "outputs": [],
   "source": [
    "np.unique(apartment_df['city'])"
   ]
  },
  {
   "cell_type": "code",
   "execution_count": null,
   "id": "a2cb3fea",
   "metadata": {},
   "outputs": [],
   "source": [
    "np.sort(np.unique(apartment_df['transaction_year_month']))"
   ]
  },
  {
   "cell_type": "code",
   "execution_count": null,
   "id": "90b8e814",
   "metadata": {},
   "outputs": [],
   "source": [
    "np.sort(np.unique(apartment_df['year_of_completion']))"
   ]
  },
  {
   "cell_type": "code",
   "execution_count": null,
   "id": "aa860646",
   "metadata": {},
   "outputs": [],
   "source": [
    "apartment_df[apartment_df['year_of_completion'] == 1961]"
   ]
  },
  {
   "cell_type": "code",
   "execution_count": null,
   "id": "08b3e8f9",
   "metadata": {},
   "outputs": [],
   "source": []
  },
  {
   "cell_type": "code",
   "execution_count": null,
   "id": "44aaea5a",
   "metadata": {},
   "outputs": [],
   "source": [
    "park_df.info()"
   ]
  },
  {
   "cell_type": "code",
   "execution_count": null,
   "id": "f5a0968d",
   "metadata": {},
   "outputs": [],
   "source": [
    "np.unique(park_df['city'])"
   ]
  },
  {
   "cell_type": "code",
   "execution_count": null,
   "id": "d8175b8a",
   "metadata": {},
   "outputs": [],
   "source": [
    "park_df[park_df['park_exercise_facility'].notna()]"
   ]
  },
  {
   "cell_type": "code",
   "execution_count": null,
   "id": "db553ba0",
   "metadata": {},
   "outputs": [],
   "source": [
    "park_df[~park_df['park_exercise_facility'].isna()]"
   ]
  },
  {
   "cell_type": "code",
   "execution_count": null,
   "id": "1a90e21b",
   "metadata": {},
   "outputs": [],
   "source": [
    "type(park_df['park_exercise_facility'].astype(str)[0])"
   ]
  },
  {
   "cell_type": "code",
   "execution_count": null,
   "id": "e0ba03d6",
   "metadata": {},
   "outputs": [],
   "source": [
    "type(park_df['park_exercise_facility'][0])"
   ]
  },
  {
   "cell_type": "code",
   "execution_count": null,
   "id": "11bb7dc9",
   "metadata": {},
   "outputs": [],
   "source": [
    "park_df[park_df['park_exercise_facility'].astype(str).str.contains('게이트볼')]"
   ]
  },
  {
   "cell_type": "code",
   "execution_count": null,
   "id": "7a57d3aa",
   "metadata": {},
   "outputs": [],
   "source": []
  }
 ],
 "metadata": {
  "kernelspec": {
   "display_name": "Python 3 (ipykernel)",
   "language": "python",
   "name": "python3"
  },
  "language_info": {
   "codemirror_mode": {
    "name": "ipython",
    "version": 3
   },
   "file_extension": ".py",
   "mimetype": "text/x-python",
   "name": "python",
   "nbconvert_exporter": "python",
   "pygments_lexer": "ipython3",
   "version": "3.11.3"
  }
 },
 "nbformat": 4,
 "nbformat_minor": 5
}
