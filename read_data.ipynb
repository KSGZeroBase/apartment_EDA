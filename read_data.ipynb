{
 "cells": [
  {
   "cell_type": "code",
   "execution_count": 1,
   "id": "b77bc70b",
   "metadata": {},
   "outputs": [],
   "source": [
    "import pandas as pd\n",
    "import numpy as np\n",
    "import os"
   ]
  },
  {
   "cell_type": "code",
   "execution_count": null,
   "id": "eca90217",
   "metadata": {},
   "outputs": [],
   "source": [
    "apartment_df = pd.read_csv('data/train.csv')"
   ]
  },
  {
   "cell_type": "code",
   "execution_count": null,
   "id": "44d3cd41",
   "metadata": {},
   "outputs": [],
   "source": [
    "park_df = pd.read_csv('data/park.csv')"
   ]
  },
  {
   "cell_type": "code",
   "execution_count": null,
   "id": "bf2374cc",
   "metadata": {},
   "outputs": [],
   "source": [
    "day_care_center_df = pd.read_csv('data/day_care_center.csv')"
   ]
  },
  {
   "cell_type": "code",
   "execution_count": null,
   "id": "258e8bc4",
   "metadata": {},
   "outputs": [],
   "source": []
  },
  {
   "cell_type": "code",
   "execution_count": null,
   "id": "13d04fac",
   "metadata": {},
   "outputs": [],
   "source": [
    "apartment_df.info()"
   ]
  },
  {
   "cell_type": "code",
   "execution_count": null,
   "id": "b0c5fa88",
   "metadata": {},
   "outputs": [],
   "source": [
    "import numpy as np"
   ]
  },
  {
   "cell_type": "code",
   "execution_count": null,
   "id": "fd3e1d3f",
   "metadata": {},
   "outputs": [],
   "source": [
    "np.unique(apartment_df['city'])"
   ]
  },
  {
   "cell_type": "code",
   "execution_count": null,
   "id": "a2cb3fea",
   "metadata": {},
   "outputs": [],
   "source": [
    "np.sort(np.unique(apartment_df['transaction_year_month']))"
   ]
  },
  {
   "cell_type": "code",
   "execution_count": null,
   "id": "90b8e814",
   "metadata": {},
   "outputs": [],
   "source": [
    "np.sort(np.unique(apartment_df['year_of_completion']))"
   ]
  },
  {
   "cell_type": "code",
   "execution_count": null,
   "id": "aa860646",
   "metadata": {},
   "outputs": [],
   "source": [
    "apartment_df[apartment_df['year_of_completion'] == 1961]"
   ]
  },
  {
   "cell_type": "code",
   "execution_count": null,
   "id": "08b3e8f9",
   "metadata": {},
   "outputs": [],
   "source": []
  },
  {
   "cell_type": "code",
   "execution_count": null,
   "id": "44aaea5a",
   "metadata": {},
   "outputs": [],
   "source": [
    "park_df.info()"
   ]
  },
  {
   "cell_type": "code",
   "execution_count": null,
   "id": "f5a0968d",
   "metadata": {},
   "outputs": [],
   "source": [
    "np.unique(park_df['city'])"
   ]
  },
  {
   "cell_type": "code",
   "execution_count": null,
   "id": "d8175b8a",
   "metadata": {},
   "outputs": [],
   "source": [
    "park_df[park_df['park_exercise_facility'].notna()]"
   ]
  },
  {
   "cell_type": "code",
   "execution_count": null,
   "id": "db553ba0",
   "metadata": {},
   "outputs": [],
   "source": [
    "park_df[~park_df['park_exercise_facility'].isna()]"
   ]
  },
  {
   "cell_type": "code",
   "execution_count": null,
   "id": "1a90e21b",
   "metadata": {},
   "outputs": [],
   "source": [
    "type(park_df['park_exercise_facility'].astype(str)[0]) "
   ]
  },
  {
   "cell_type": "code",
   "execution_count": null,
   "id": "e0ba03d6",
   "metadata": {},
   "outputs": [],
   "source": [
    "type(park_df['park_exercise_facility'][0])"
   ]
  },
  {
   "cell_type": "code",
   "execution_count": null,
   "id": "11bb7dc9",
   "metadata": {},
   "outputs": [],
   "source": [
    "park_df[park_df['park_exercise_facility'].astype(str).str.contains('게이트볼')]"
   ]
  },
  {
   "cell_type": "code",
   "execution_count": null,
   "id": "673b8440",
   "metadata": {},
   "outputs": [],
   "source": [
    "park_df.sort_values(['park_area', 'park_open_year'], ascending=[True, False]).head(50)"
   ]
  },
  {
   "cell_type": "code",
   "execution_count": null,
   "id": "b365b661",
   "metadata": {},
   "outputs": [],
   "source": [
    "park_df.pivot_table(index=['city', 'gu', 'dong'], values='park_area', aggfunc=['sum', 'count']).sort_values([('count', 'park_area'), ('sum', 'park_area')], ascending=False).head(50)"
   ]
  },
  {
   "cell_type": "code",
   "execution_count": null,
   "id": "09c3724f",
   "metadata": {},
   "outputs": [],
   "source": [
    "day_care_center_df.info()"
   ]
  },
  {
   "cell_type": "code",
   "execution_count": null,
   "id": "3aaa1919",
   "metadata": {},
   "outputs": [],
   "source": [
    "np.unique(day_care_center_df['city'])"
   ]
  },
  {
   "cell_type": "code",
   "execution_count": null,
   "id": "4f8bcdfa",
   "metadata": {},
   "outputs": [],
   "source": [
    "day_care_center_df.sort_values(['day_care_baby_num', 'teacher_num'], ascending=[False, True]).head(50)"
   ]
  },
  {
   "cell_type": "code",
   "execution_count": null,
   "id": "a2e92f16",
   "metadata": {},
   "outputs": [],
   "source": [
    "day_care_center_df.pivot_table(index=['city', 'gu'], values=['day_care_baby_num', 'teacher_num'], aggfunc=['sum', 'count', 'mean', 'median']).sort_values(('sum', 'day_care_baby_num'), ascending=False)"
   ]
  },
  {
   "cell_type": "code",
   "execution_count": null,
   "id": "7748d5f3",
   "metadata": {},
   "outputs": [],
   "source": [
    "np.unique(day_care_center_df['day_care_type'])"
   ]
  },
  {
   "cell_type": "code",
   "execution_count": null,
   "id": "a2fc25c1",
   "metadata": {},
   "outputs": [],
   "source": []
  },
  {
   "cell_type": "code",
   "execution_count": 2,
   "id": "b8ccad52",
   "metadata": {},
   "outputs": [],
   "source": [
    "\n",
    "def split_by_city(df, file_name) : \n",
    "    cities = np.unique(df['city'])\n",
    "    for city in cities:\n",
    "        if city not in os.listdir('data'): \n",
    "            os.mkdir(f'data/{city}')\n",
    "        df[df['city'] == city].to_csv(f'data/{city}/{file_name}')"
   ]
  },
  {
   "cell_type": "code",
   "execution_count": 3,
   "id": "29feecb5",
   "metadata": {},
   "outputs": [],
   "source": [
    "location_df = pd.read_csv('data/동별좌표.csv')"
   ]
  },
  {
   "cell_type": "code",
   "execution_count": 4,
   "id": "a37cedd5",
   "metadata": {},
   "outputs": [],
   "source": [
    "split_by_city(location_df, \"location_df.csv\")"
   ]
  },
  {
   "cell_type": "code",
   "execution_count": null,
   "id": "504a2b16",
   "metadata": {},
   "outputs": [],
   "source": [
    "split_by_city(apartment_df, 'apartment_df_')\n",
    "split_by_city(day_care_center_df, 'day_care_center_df')\n",
    "split_by_city(park_df, 'park_df')"
   ]
  },
  {
   "cell_type": "code",
   "execution_count": null,
   "id": "9809bb00",
   "metadata": {},
   "outputs": [],
   "source": []
  }
 ],
 "metadata": {
  "kernelspec": {
   "display_name": "Python 3 (ipykernel)",
   "language": "python",
   "name": "python3"
  },
  "language_info": {
   "codemirror_mode": {
    "name": "ipython",
    "version": 3
   },
   "file_extension": ".py",
   "mimetype": "text/x-python",
   "name": "python",
   "nbconvert_exporter": "python",
   "pygments_lexer": "ipython3",
   "version": "3.11.3"
  }
 },
 "nbformat": 4,
 "nbformat_minor": 5
}
