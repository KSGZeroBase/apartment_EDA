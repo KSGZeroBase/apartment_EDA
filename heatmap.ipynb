{
 "cells": [
  {
   "cell_type": "code",
   "execution_count": null,
   "id": "d5eb3f94",
   "metadata": {},
   "outputs": [],
   "source": [
    "import pandas as pd\n",
    "import numpy as np\n",
    "import matplotlib.pyplot as plt\n",
    "import seaborn as sns\n",
    "import plotly.express as px"
   ]
  },
  {
   "cell_type": "code",
   "execution_count": null,
   "id": "acaef903",
   "metadata": {},
   "outputs": [],
   "source": [
    "# family = \"AppleGothic\"\n",
    "family = \"Malgun Gothic\"\n",
    "\n",
    "plt.rc('font', family=family)"
   ]
  },
  {
   "cell_type": "code",
   "execution_count": null,
   "id": "00562a5f",
   "metadata": {},
   "outputs": [],
   "source": [
    "sns.set(rc = {'figure.figsize' : (9, 9)})"
   ]
  },
  {
   "cell_type": "markdown",
   "id": "feb3ce39",
   "metadata": {},
   "source": [
    "### 여러컬럼의 상관계수\n",
    "### 정오답\n",
    "### 시계열"
   ]
  },
  {
   "cell_type": "markdown",
   "id": "f893eac5",
   "metadata": {},
   "source": [
    "### 상관관계 시각화\n",
    "#### 미국 주식 데이터"
   ]
  },
  {
   "cell_type": "code",
   "execution_count": null,
   "id": "b5169198",
   "metadata": {},
   "outputs": [],
   "source": [
    "df = px.data.stocks()\n",
    "df"
   ]
  },
  {
   "cell_type": "code",
   "execution_count": null,
   "id": "b3748870",
   "metadata": {},
   "outputs": [],
   "source": [
    "df['date'] = pd.to_numeric(pd.to_datetime(df['date']))"
   ]
  },
  {
   "cell_type": "code",
   "execution_count": null,
   "id": "20f2dc2d",
   "metadata": {},
   "outputs": [],
   "source": [
    "corr_df = df.corr()\n",
    "corr_df"
   ]
  },
  {
   "cell_type": "code",
   "execution_count": null,
   "id": "4e585d8e",
   "metadata": {},
   "outputs": [],
   "source": [
    "sns.heatmap(corr_df, annot=True ,cmap=\"RdYlBu_r\", vmin=-1, vmax=1)"
   ]
  },
  {
   "cell_type": "code",
   "execution_count": null,
   "id": "4a8c4d58",
   "metadata": {},
   "outputs": [],
   "source": []
  },
  {
   "cell_type": "markdown",
   "id": "ea31e4df",
   "metadata": {},
   "source": [
    "#### 타이타닉"
   ]
  },
  {
   "cell_type": "code",
   "execution_count": null,
   "id": "2a5c3346",
   "metadata": {},
   "outputs": [],
   "source": [
    "df = sns.load_dataset(\"titanic\")\n",
    "df"
   ]
  },
  {
   "cell_type": "code",
   "execution_count": null,
   "id": "23b8a6ce",
   "metadata": {},
   "outputs": [],
   "source": [
    "df['sex'] = [True if sex=='male' else False for sex in df['sex'].values]\n",
    "df['alive'] = [True if alive=='yes' else False for alive in df['alive'].values]\n",
    "df['who'] = [True if who=='man' else False for who in df['who'].values]\n",
    "df['class'] = [3 if cls == 'Third' else 2 if cls=='Second' else 1 for cls in df['class']] \n",
    "df"
   ]
  },
  {
   "cell_type": "code",
   "execution_count": null,
   "id": "77c813d1",
   "metadata": {},
   "outputs": [],
   "source": [
    "corr_df = df.corr()\n",
    "corr_df"
   ]
  },
  {
   "cell_type": "code",
   "execution_count": null,
   "id": "9929df00",
   "metadata": {},
   "outputs": [],
   "source": [
    "sns.heatmap(corr_df, annot=True ,cmap=\"RdYlBu_r\", vmin=-1, vmax=1)"
   ]
  },
  {
   "cell_type": "code",
   "execution_count": null,
   "id": "f0fbd27e",
   "metadata": {},
   "outputs": [],
   "source": []
  },
  {
   "cell_type": "code",
   "execution_count": null,
   "id": "d841c489",
   "metadata": {},
   "outputs": [],
   "source": []
  }
 ],
 "metadata": {
  "kernelspec": {
   "display_name": "Python 3 (ipykernel)",
   "language": "python",
   "name": "python3"
  },
  "language_info": {
   "codemirror_mode": {
    "name": "ipython",
    "version": 3
   },
   "file_extension": ".py",
   "mimetype": "text/x-python",
   "name": "python",
   "nbconvert_exporter": "python",
   "pygments_lexer": "ipython3",
   "version": "3.11.3"
  }
 },
 "nbformat": 4,
 "nbformat_minor": 5
}
