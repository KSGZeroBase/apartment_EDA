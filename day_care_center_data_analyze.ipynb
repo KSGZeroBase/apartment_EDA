{
 "cells": [
  {
   "cell_type": "code",
   "execution_count": null,
   "id": "edfb4107",
   "metadata": {},
   "outputs": [],
   "source": [
    "import pandas as pd\n",
    "import numpy as np"
   ]
  },
  {
   "cell_type": "code",
   "execution_count": null,
   "id": "15e91f17",
   "metadata": {},
   "outputs": [],
   "source": [
    "import seaborn as sns\n",
    "import matplotlib.pyplot as plt\n",
    "\n",
    "sns.set(rc= {'figure.figsize':(11,11)})\n",
    "\n",
    "family = 'Malgun Gothic'\n",
    "plt.rc('font' ,family=family)"
   ]
  },
  {
   "cell_type": "code",
   "execution_count": null,
   "id": "2b28b0fe",
   "metadata": {},
   "outputs": [],
   "source": [
    "apart_df = pd.read_csv('data/서울특별시/apartment_df_by_dong.csv')\n",
    "day_care_center_df = pd.read_csv('data/서울특별시/day_care_center_df.csv', index_col=0)"
   ]
  },
  {
   "cell_type": "code",
   "execution_count": null,
   "id": "b284309b",
   "metadata": {},
   "outputs": [],
   "source": [
    "apart_df.info()"
   ]
  },
  {
   "cell_type": "code",
   "execution_count": null,
   "id": "84034c53",
   "metadata": {},
   "outputs": [],
   "source": [
    "day_care_center_df.info()"
   ]
  },
  {
   "cell_type": "code",
   "execution_count": null,
   "id": "fd6e376a",
   "metadata": {},
   "outputs": [],
   "source": [
    "park_df = pd.read_csv('data/서울특별시/park_df.csv')\n",
    "park_df"
   ]
  },
  {
   "cell_type": "code",
   "execution_count": null,
   "id": "ec92cb3b",
   "metadata": {},
   "outputs": [],
   "source": [
    "gu_dong_unique = park_df[['gu', 'dong']].drop_duplicates().reset_index(drop=True)\n",
    "gu_dong_unique"
   ]
  },
  {
   "cell_type": "code",
   "execution_count": null,
   "id": "5d8fdc88",
   "metadata": {},
   "outputs": [],
   "source": [
    "apart_df = pd.merge(gu_dong_unique, apart_df)"
   ]
  },
  {
   "cell_type": "code",
   "execution_count": null,
   "id": "6297f884",
   "metadata": {},
   "outputs": [],
   "source": [
    "mean_data_for_gu = apart_df.groupby('gu').mean().reset_index()\n",
    "mean_data_for_gu"
   ]
  },
  {
   "cell_type": "code",
   "execution_count": null,
   "id": "137bbb08",
   "metadata": {},
   "outputs": [],
   "source": [
    "corr_df = pd.merge(mean_data_for_gu, day_care_center_df).corr()\n",
    "corr_df"
   ]
  },
  {
   "cell_type": "code",
   "execution_count": null,
   "id": "399cb1bf",
   "metadata": {
    "scrolled": false
   },
   "outputs": [],
   "source": [
    "sns.heatmap(data=corr_df, annot=True, cmap=\"RdYlBu_r\", vmin=-1, vmax=1)\n",
    "plt.show()"
   ]
  },
  {
   "cell_type": "code",
   "execution_count": null,
   "id": "37fdc756",
   "metadata": {},
   "outputs": [],
   "source": [
    "apart_df = pd.read_csv('data/서울특별시/apartment_df.csv')\n",
    "apart_df[['dong', 'exclusive_use_area', 'transaction_real_price']]"
   ]
  },
  {
   "cell_type": "code",
   "execution_count": null,
   "id": "e72b4f70",
   "metadata": {},
   "outputs": [],
   "source": [
    "apart_df = apart_df[['dong', 'exclusive_use_area', 'transaction_real_price']]\n",
    "apart_df['real_price_per_m2'] = apart_df['transaction_real_price'] / apart_df['exclusive_use_area']\n",
    "apart_df"
   ]
  },
  {
   "cell_type": "code",
   "execution_count": null,
   "id": "7dc8bcbb",
   "metadata": {
    "scrolled": false
   },
   "outputs": [],
   "source": [
    "apart_df = pd.merge(apart_df, gu_dong_unique)\n",
    "mean_data_for_gu = apart_df.groupby('gu').mean().reset_index()\n",
    "mean_data_for_gu"
   ]
  },
  {
   "cell_type": "code",
   "execution_count": null,
   "id": "be6e51d5",
   "metadata": {},
   "outputs": [],
   "source": [
    "corr_df = pd.merge(mean_data_for_gu, day_care_center_df).corr()\n",
    "corr_df"
   ]
  },
  {
   "cell_type": "code",
   "execution_count": null,
   "id": "41649853",
   "metadata": {},
   "outputs": [],
   "source": [
    "sns.heatmap(data=corr_df, annot=True, cmap=\"RdYlBu_r\", vmin=-1, vmax=1)\n",
    "plt.show()"
   ]
  },
  {
   "cell_type": "code",
   "execution_count": null,
   "id": "ea8d60d0",
   "metadata": {
    "scrolled": true
   },
   "outputs": [],
   "source": [
    "day_care_center_df_groupby = day_care_center_df.groupby('gu').sum().reset_index()\n",
    "day_care_center_df_groupby"
   ]
  },
  {
   "cell_type": "code",
   "execution_count": null,
   "id": "7c6a7e39",
   "metadata": {},
   "outputs": [],
   "source": [
    "def draw_heatmap_for_corr(corr_df):\n",
    "    sns.heatmap(data=corr_df, annot=True, cmap=\"RdYlBu_r\", vmin=-1, vmax=1)\n",
    "    plt.show()"
   ]
  },
  {
   "cell_type": "code",
   "execution_count": null,
   "id": "aa6924ce",
   "metadata": {},
   "outputs": [],
   "source": [
    "draw_heatmap_for_corr(pd.merge(mean_data_for_gu, day_care_center_df_groupby).corr())"
   ]
  },
  {
   "cell_type": "code",
   "execution_count": null,
   "id": "b6e073a2",
   "metadata": {
    "scrolled": true
   },
   "outputs": [],
   "source": [
    "draw_heatmap_for_corr(pd.merge(mean_data_for_gu, day_care_center_df_groupby.replace(0, np.nan)).corr())"
   ]
  },
  {
   "cell_type": "code",
   "execution_count": null,
   "id": "aa86efa6",
   "metadata": {
    "scrolled": true
   },
   "outputs": [],
   "source": [
    "day_care_center_df_groupby.replace(0, np.nan)"
   ]
  },
  {
   "cell_type": "code",
   "execution_count": null,
   "id": "eb1b9e64",
   "metadata": {},
   "outputs": [],
   "source": [
    "from sklearn.impute import KNNImputer\n",
    "\n",
    "model = KNNImputer(n_neighbors=10)\n",
    "model"
   ]
  },
  {
   "cell_type": "code",
   "execution_count": null,
   "id": "ed23ab06",
   "metadata": {},
   "outputs": [],
   "source": [
    "numeric_columns = [column for column in day_care_center_df.columns if \"num\" in column]"
   ]
  },
  {
   "cell_type": "code",
   "execution_count": null,
   "id": "fce2b0eb",
   "metadata": {},
   "outputs": [],
   "source": [
    "numeric_df = day_care_center_df[numeric_columns]\n",
    "numeric_df.reset_index(drop=True, inplace=True)\n",
    "numeric_df"
   ]
  },
  {
   "cell_type": "code",
   "execution_count": null,
   "id": "3fa87952",
   "metadata": {},
   "outputs": [],
   "source": [
    "day_care_center_filled_data = model.fit_transform(numeric_df)\n",
    "day_care_center_filled_df = pd.DataFrame(day_care_center_filled_data, columns=numeric_columns )\n",
    "day_care_center_filled_df"
   ]
  },
  {
   "cell_type": "code",
   "execution_count": null,
   "id": "43c4b71a",
   "metadata": {},
   "outputs": [],
   "source": [
    "day_care_center_df.reset_index(drop=True, inplace=True)\n",
    "day_care_center_df"
   ]
  },
  {
   "cell_type": "code",
   "execution_count": null,
   "id": "31d37479",
   "metadata": {
    "scrolled": true
   },
   "outputs": [],
   "source": [
    "day_care_center_df[numeric_columns] = day_care_center_filled_df\n",
    "day_care_center_df"
   ]
  },
  {
   "cell_type": "code",
   "execution_count": null,
   "id": "519a1d19",
   "metadata": {},
   "outputs": [],
   "source": [
    "draw_heatmap_for_corr(pd.merge(mean_data_for_gu, day_care_center_df).corr())"
   ]
  }
 ],
 "metadata": {
  "kernelspec": {
   "display_name": "Python 3 (ipykernel)",
   "language": "python",
   "name": "python3"
  },
  "language_info": {
   "codemirror_mode": {
    "name": "ipython",
    "version": 3
   },
   "file_extension": ".py",
   "mimetype": "text/x-python",
   "name": "python",
   "nbconvert_exporter": "python",
   "pygments_lexer": "ipython3",
   "version": "3.11.3"
  }
 },
 "nbformat": 4,
 "nbformat_minor": 5
}
