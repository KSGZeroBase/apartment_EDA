{
 "cells": [
  {
   "cell_type": "code",
   "execution_count": null,
   "id": "d6fc49f2",
   "metadata": {},
   "outputs": [],
   "source": [
    "import numpy as np\n",
    "import pandas as pd\n",
    "import matplotlib.pyplot as plt"
   ]
  },
  {
   "cell_type": "code",
   "execution_count": null,
   "id": "fe64d676",
   "metadata": {},
   "outputs": [],
   "source": [
    "family = \"Malgun Gothic\" # window\n",
    "# family = \"AppleGothic\" # Mac\n",
    "\n",
    "plt.rc('font', family=family)"
   ]
  },
  {
   "cell_type": "code",
   "execution_count": null,
   "id": "2267b0d1",
   "metadata": {},
   "outputs": [],
   "source": []
  },
  {
   "cell_type": "code",
   "execution_count": null,
   "id": "22b685e0",
   "metadata": {},
   "outputs": [],
   "source": [
    "sample = 100"
   ]
  },
  {
   "cell_type": "code",
   "execution_count": null,
   "id": "4a701d38",
   "metadata": {},
   "outputs": [],
   "source": [
    "x = np.random.rand(sample)\n",
    "y = x + np.random.rand(sample)*0.5"
   ]
  },
  {
   "cell_type": "code",
   "execution_count": null,
   "id": "fc95a6f4",
   "metadata": {},
   "outputs": [],
   "source": [
    "df = pd.DataFrame([x, y]).T\n",
    "df"
   ]
  },
  {
   "cell_type": "code",
   "execution_count": null,
   "id": "af93d56e",
   "metadata": {},
   "outputs": [],
   "source": [
    "def draw_graph(x, y): \n",
    "    plt.scatter(x, y)\n",
    "    plt.scatter(np.mean(x), np.mean(y), c='red')\n",
    "    plt.plot([np.mean(x), np.mean(x)], [min(y), max(y)], marker='o', color='red')\n",
    "    plt.plot([min(x), max(x)], [np.mean(y), np.mean(y)], marker='o', color='red')\n",
    "    plt.grid(True)\n",
    "    plt.show()"
   ]
  },
  {
   "cell_type": "code",
   "execution_count": null,
   "id": "4fb3f231",
   "metadata": {},
   "outputs": [],
   "source": [
    "draw_graph(x, y)"
   ]
  },
  {
   "cell_type": "code",
   "execution_count": null,
   "id": "d62fde67",
   "metadata": {},
   "outputs": [],
   "source": [
    "df.corr()"
   ]
  },
  {
   "cell_type": "code",
   "execution_count": null,
   "id": "e80800a8",
   "metadata": {},
   "outputs": [],
   "source": []
  },
  {
   "cell_type": "code",
   "execution_count": null,
   "id": "1b5a0a0a",
   "metadata": {},
   "outputs": [],
   "source": [
    "x = np.random.rand(sample)\n",
    "y = np.random.rand(sample)"
   ]
  },
  {
   "cell_type": "code",
   "execution_count": null,
   "id": "5ec9477a",
   "metadata": {},
   "outputs": [],
   "source": [
    "df = pd.DataFrame([x, y]).T\n",
    "df"
   ]
  },
  {
   "cell_type": "code",
   "execution_count": null,
   "id": "620037f4",
   "metadata": {},
   "outputs": [],
   "source": [
    "draw_graph(x, y)"
   ]
  },
  {
   "cell_type": "code",
   "execution_count": null,
   "id": "d8613f7d",
   "metadata": {},
   "outputs": [],
   "source": [
    "df.corr()"
   ]
  },
  {
   "cell_type": "code",
   "execution_count": null,
   "id": "a5ab98c0",
   "metadata": {},
   "outputs": [],
   "source": []
  },
  {
   "cell_type": "code",
   "execution_count": null,
   "id": "c96061ab",
   "metadata": {},
   "outputs": [],
   "source": [
    "x = np.random.rand(sample)\n",
    "y = -x + np.random.rand(sample) * 0.5"
   ]
  },
  {
   "cell_type": "code",
   "execution_count": null,
   "id": "696073d1",
   "metadata": {},
   "outputs": [],
   "source": [
    "df = pd.DataFrame([x, y]).T\n",
    "df"
   ]
  },
  {
   "cell_type": "code",
   "execution_count": null,
   "id": "062c99a0",
   "metadata": {},
   "outputs": [],
   "source": [
    "draw_graph(x, y)"
   ]
  },
  {
   "cell_type": "code",
   "execution_count": null,
   "id": "51094817",
   "metadata": {},
   "outputs": [],
   "source": [
    "df.corr()"
   ]
  },
  {
   "cell_type": "code",
   "execution_count": null,
   "id": "9b4228b8",
   "metadata": {},
   "outputs": [],
   "source": []
  },
  {
   "cell_type": "code",
   "execution_count": null,
   "id": "d9ce5d5c",
   "metadata": {},
   "outputs": [],
   "source": [
    "df = pd.DataFrame([\n",
    "    [1,2,3,4,5],\n",
    "    [2,4,6,8,10]\n",
    "]).T\n",
    "df"
   ]
  },
  {
   "cell_type": "code",
   "execution_count": null,
   "id": "4138384f",
   "metadata": {},
   "outputs": [],
   "source": [
    "plt.scatter(df[0], df[1])\n",
    "plt.show()"
   ]
  },
  {
   "cell_type": "code",
   "execution_count": null,
   "id": "aa6af414",
   "metadata": {},
   "outputs": [],
   "source": [
    "draw_graph(df[0], df[1])"
   ]
  },
  {
   "cell_type": "code",
   "execution_count": null,
   "id": "e956418f",
   "metadata": {},
   "outputs": [],
   "source": [
    "df.corr()"
   ]
  },
  {
   "cell_type": "code",
   "execution_count": null,
   "id": "c2826c35",
   "metadata": {},
   "outputs": [],
   "source": []
  },
  {
   "cell_type": "code",
   "execution_count": null,
   "id": "ed9b51c5",
   "metadata": {},
   "outputs": [],
   "source": [
    "df = pd.DataFrame([\n",
    "    [1,2,3,4,5],\n",
    "    [-1,32,13,-59,23]\n",
    "]).T\n",
    "df"
   ]
  },
  {
   "cell_type": "code",
   "execution_count": null,
   "id": "32a795c3",
   "metadata": {},
   "outputs": [],
   "source": [
    "plt.scatter(df[0], df[1])\n",
    "plt.show()"
   ]
  },
  {
   "cell_type": "code",
   "execution_count": null,
   "id": "e558a8b5",
   "metadata": {},
   "outputs": [],
   "source": [
    "draw_graph(df[0], df[1])"
   ]
  },
  {
   "cell_type": "code",
   "execution_count": null,
   "id": "52c5e210",
   "metadata": {},
   "outputs": [],
   "source": [
    "df.corr()"
   ]
  },
  {
   "cell_type": "code",
   "execution_count": null,
   "id": "9d99570b",
   "metadata": {},
   "outputs": [],
   "source": []
  },
  {
   "cell_type": "code",
   "execution_count": null,
   "id": "8682bbe1",
   "metadata": {},
   "outputs": [],
   "source": [
    "df = pd.DataFrame([\n",
    "    [1,2,3,4,5],\n",
    "    [-1,-2,-3,-4,-5]\n",
    "]).T\n",
    "df"
   ]
  },
  {
   "cell_type": "code",
   "execution_count": null,
   "id": "a37acf92",
   "metadata": {},
   "outputs": [],
   "source": [
    "plt.scatter(df[0], df[1])\n",
    "plt.show()"
   ]
  },
  {
   "cell_type": "code",
   "execution_count": null,
   "id": "05e6d9dd",
   "metadata": {},
   "outputs": [],
   "source": [
    "draw_graph(df[0], df[1])"
   ]
  },
  {
   "cell_type": "code",
   "execution_count": null,
   "id": "8cc5a1b7",
   "metadata": {},
   "outputs": [],
   "source": [
    "df.corr()"
   ]
  },
  {
   "cell_type": "code",
   "execution_count": null,
   "id": "adec91d4",
   "metadata": {},
   "outputs": [],
   "source": []
  },
  {
   "cell_type": "markdown",
   "id": "a067de49",
   "metadata": {},
   "source": [
    "# 상관계수는 무조건 신뢰할 수 있는가?\n",
    "## NO"
   ]
  },
  {
   "cell_type": "code",
   "execution_count": null,
   "id": "6d057377",
   "metadata": {},
   "outputs": [],
   "source": [
    "df = pd.DataFrame([\n",
    "    range(10),\n",
    "    [0,1,2,3,4,4,3,2,1,0]\n",
    "]).T\n",
    "df"
   ]
  },
  {
   "cell_type": "code",
   "execution_count": null,
   "id": "448cd553",
   "metadata": {},
   "outputs": [],
   "source": [
    "plt.scatter(df[0], df[1])\n",
    "plt.show()"
   ]
  },
  {
   "cell_type": "code",
   "execution_count": null,
   "id": "698e3547",
   "metadata": {},
   "outputs": [],
   "source": [
    "draw_graph(df[0], df[1])"
   ]
  },
  {
   "cell_type": "code",
   "execution_count": null,
   "id": "4d1663d5",
   "metadata": {},
   "outputs": [],
   "source": [
    "df.corr()"
   ]
  },
  {
   "cell_type": "code",
   "execution_count": null,
   "id": "c257f5dc",
   "metadata": {},
   "outputs": [],
   "source": []
  }
 ],
 "metadata": {
  "kernelspec": {
   "display_name": "Python 3 (ipykernel)",
   "language": "python",
   "name": "python3"
  },
  "language_info": {
   "codemirror_mode": {
    "name": "ipython",
    "version": 3
   },
   "file_extension": ".py",
   "mimetype": "text/x-python",
   "name": "python",
   "nbconvert_exporter": "python",
   "pygments_lexer": "ipython3",
   "version": "3.11.3"
  }
 },
 "nbformat": 4,
 "nbformat_minor": 5
}
