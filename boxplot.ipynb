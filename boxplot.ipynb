{
 "cells": [
  {
   "cell_type": "code",
   "execution_count": null,
   "id": "58aee49a",
   "metadata": {},
   "outputs": [],
   "source": [
    "import pandas as pd\n",
    "import numpy as np\n",
    "import matplotlib.pyplot as plt\n",
    "import seaborn as sns"
   ]
  },
  {
   "cell_type": "code",
   "execution_count": null,
   "id": "bda3d7bc",
   "metadata": {},
   "outputs": [],
   "source": [
    "# family = \"AppleGothic\"\n",
    "family = \"Malgun Gothic\"\n",
    "\n",
    "plt.rc('font', family=family)"
   ]
  },
  {
   "cell_type": "code",
   "execution_count": null,
   "id": "21cf790b",
   "metadata": {},
   "outputs": [],
   "source": []
  },
  {
   "cell_type": "code",
   "execution_count": null,
   "id": "fb3605d7",
   "metadata": {},
   "outputs": [],
   "source": [
    "df = sns.load_dataset('penguins')\n",
    "df"
   ]
  },
  {
   "cell_type": "code",
   "execution_count": null,
   "id": "7fa22df7",
   "metadata": {},
   "outputs": [],
   "source": [
    "numeric_columns = df.columns[2:6]\n",
    "numeric_columns"
   ]
  },
  {
   "cell_type": "code",
   "execution_count": null,
   "id": "ad87ca09",
   "metadata": {},
   "outputs": [],
   "source": [
    "sns.boxplot(data=df.dropna(), y=numeric_columns[2], sym='r+', x='sex', hue='species')"
   ]
  },
  {
   "cell_type": "code",
   "execution_count": null,
   "id": "a9f12038",
   "metadata": {},
   "outputs": [],
   "source": [
    "df[df['island'] == 'Torgersen'].sort_values(numeric_columns[2], ascending=False)"
   ]
  },
  {
   "cell_type": "code",
   "execution_count": null,
   "id": "b30aa3cf",
   "metadata": {},
   "outputs": [],
   "source": []
  },
  {
   "cell_type": "code",
   "execution_count": null,
   "id": "71d40ac7",
   "metadata": {},
   "outputs": [],
   "source": [
    "df = sns.load_dataset('iris')\n",
    "df"
   ]
  },
  {
   "cell_type": "code",
   "execution_count": null,
   "id": "bcb32e4b",
   "metadata": {},
   "outputs": [],
   "source": [
    "numeric_columns = df.columns[0:5]\n",
    "numeric_columns"
   ]
  },
  {
   "cell_type": "code",
   "execution_count": null,
   "id": "626f6b3a",
   "metadata": {},
   "outputs": [],
   "source": [
    "sns.boxplot(data=df.dropna(), y=numeric_columns[0], sym='r+', x='species')"
   ]
  },
  {
   "cell_type": "code",
   "execution_count": null,
   "id": "26709b5e",
   "metadata": {},
   "outputs": [],
   "source": [
    "df[df['species'] == 'virginica'].sort_values(numeric_columns[0])"
   ]
  },
  {
   "cell_type": "code",
   "execution_count": null,
   "id": "eaf69063",
   "metadata": {},
   "outputs": [],
   "source": []
  }
 ],
 "metadata": {
  "kernelspec": {
   "display_name": "Python 3 (ipykernel)",
   "language": "python",
   "name": "python3"
  },
  "language_info": {
   "codemirror_mode": {
    "name": "ipython",
    "version": 3
   },
   "file_extension": ".py",
   "mimetype": "text/x-python",
   "name": "python",
   "nbconvert_exporter": "python",
   "pygments_lexer": "ipython3",
   "version": "3.11.3"
  }
 },
 "nbformat": 4,
 "nbformat_minor": 5
}
