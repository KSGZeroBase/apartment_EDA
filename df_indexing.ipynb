{
 "cells": [
  {
   "cell_type": "code",
   "execution_count": null,
   "id": "2a1e1af8",
   "metadata": {},
   "outputs": [],
   "source": [
    "import pandas as pd\n",
    "import numpy as np\n",
    "\n",
    "data = {\n",
    "    '이름': ['Alice', 'Bob', 'Charlie', 'David', 'Emily', 'Floria'],\n",
    "    '나이': [25, 30, np.nan, 40, 45, 20],\n",
    "    '성별': ['여성', '남자', '남성', '남성', '여', '여성'],\n",
    "    '직업': ['학생', '개발자', '데이터분석가', '의사', '연구원', None]\n",
    "}\n",
    "\n",
    "# DataFrame 생성\n",
    "df = pd.DataFrame(data)\n",
    "\n",
    "df"
   ]
  },
  {
   "cell_type": "code",
   "execution_count": null,
   "id": "8d5b118a",
   "metadata": {},
   "outputs": [],
   "source": [
    "# column 가져오기 (series로 가져오기)\n",
    "df['이름']"
   ]
  },
  {
   "cell_type": "code",
   "execution_count": null,
   "id": "4d2059c3",
   "metadata": {},
   "outputs": [],
   "source": [
    "# column 가져오기 (dataFrame으로 가져오기)\n",
    "df[['이름']]"
   ]
  },
  {
   "cell_type": "code",
   "execution_count": null,
   "id": "8a8c413d",
   "metadata": {},
   "outputs": [],
   "source": [
    "# columns 가져오기 (dataFrame으로 가져오기)\n",
    "df[['이름', '나이']]"
   ]
  },
  {
   "cell_type": "code",
   "execution_count": null,
   "id": "c8b5c3ee",
   "metadata": {},
   "outputs": [],
   "source": [
    "# columns 가져오기 (dataFrame으로 가져오기) // 응용 : 컬럼 위치 바꾸기\n",
    "df = df[['이름', '성별', '직업', '나이']]\n",
    "df"
   ]
  },
  {
   "cell_type": "code",
   "execution_count": null,
   "id": "e372b6a6",
   "metadata": {},
   "outputs": [],
   "source": [
    "# row 가져오기 (index로 가져오기)\n",
    "df.loc[0]"
   ]
  },
  {
   "cell_type": "code",
   "execution_count": null,
   "id": "ff41e92a",
   "metadata": {},
   "outputs": [],
   "source": [
    "# row 가져오기 (위치로 가져오기)\n",
    "df.iloc[0]"
   ]
  },
  {
   "cell_type": "code",
   "execution_count": null,
   "id": "22b4ecb1",
   "metadata": {},
   "outputs": [],
   "source": [
    "#특정값 가져오기\n",
    "df['직업'][1]"
   ]
  },
  {
   "cell_type": "code",
   "execution_count": null,
   "id": "4e5e01c7",
   "metadata": {},
   "outputs": [],
   "source": [
    "df.loc[1,'직업']"
   ]
  },
  {
   "cell_type": "code",
   "execution_count": null,
   "id": "a94d9fe9",
   "metadata": {},
   "outputs": [],
   "source": [
    "df.loc[1,['이름', '직업']]"
   ]
  },
  {
   "cell_type": "code",
   "execution_count": null,
   "id": "01d8d09f",
   "metadata": {},
   "outputs": [],
   "source": [
    "# rows 가져오기 (위치로 가져와짐)\n",
    "df[2:4]"
   ]
  },
  {
   "cell_type": "code",
   "execution_count": null,
   "id": "a8affb01",
   "metadata": {},
   "outputs": [],
   "source": [
    "test_df = df[1:4]\n",
    "test_df"
   ]
  },
  {
   "cell_type": "code",
   "execution_count": null,
   "id": "0751de5a",
   "metadata": {},
   "outputs": [],
   "source": [
    "test_df.loc[1]"
   ]
  },
  {
   "cell_type": "code",
   "execution_count": null,
   "id": "936cb34c",
   "metadata": {},
   "outputs": [],
   "source": [
    "test_df.iloc[1]"
   ]
  },
  {
   "cell_type": "code",
   "execution_count": null,
   "id": "0e3b793e",
   "metadata": {},
   "outputs": [],
   "source": [
    "test_df[1:2]"
   ]
  },
  {
   "cell_type": "code",
   "execution_count": null,
   "id": "8450dcfe",
   "metadata": {},
   "outputs": [],
   "source": [
    "df"
   ]
  },
  {
   "cell_type": "code",
   "execution_count": null,
   "id": "9c24cf2b",
   "metadata": {},
   "outputs": [],
   "source": [
    "# 조건으로 가져오기 (마스크란?)\n",
    "df['직업'] == '데이터분석가'"
   ]
  },
  {
   "cell_type": "code",
   "execution_count": null,
   "id": "b22eb46c",
   "metadata": {},
   "outputs": [],
   "source": [
    "df['나이'] > 30"
   ]
  },
  {
   "cell_type": "code",
   "execution_count": null,
   "id": "027c3c61",
   "metadata": {},
   "outputs": [],
   "source": [
    "# 조건으로 가져오기 (마스크 이용)\n",
    "df[df['직업'] == '개발자']"
   ]
  },
  {
   "cell_type": "code",
   "execution_count": null,
   "id": "fe9c7a61",
   "metadata": {},
   "outputs": [],
   "source": [
    "df[df['나이'] > 30]"
   ]
  },
  {
   "cell_type": "code",
   "execution_count": null,
   "id": "6521e465",
   "metadata": {},
   "outputs": [],
   "source": [
    "df['직업'].isna()"
   ]
  },
  {
   "cell_type": "code",
   "execution_count": null,
   "id": "0c37cd29",
   "metadata": {},
   "outputs": [],
   "source": [
    "# 조건으로 가져오기 (결측치 보기)\n",
    "df[df['직업'].isna()]"
   ]
  },
  {
   "cell_type": "code",
   "execution_count": null,
   "id": "7a560f63",
   "metadata": {},
   "outputs": [],
   "source": [
    "df[df['나이'].isna()]"
   ]
  },
  {
   "cell_type": "code",
   "execution_count": null,
   "id": "cd921908",
   "metadata": {},
   "outputs": [],
   "source": [
    "# 조건으로 가져오기 (결측치 제외)\n",
    "df[df['나이'].notna()]"
   ]
  },
  {
   "cell_type": "code",
   "execution_count": null,
   "id": "134694e4",
   "metadata": {},
   "outputs": [],
   "source": [
    "df[~df['나이'].isna()] # ~는 boolean에서 NOT을 의미"
   ]
  },
  {
   "cell_type": "code",
   "execution_count": null,
   "id": "51ed9b91",
   "metadata": {},
   "outputs": [],
   "source": [
    "df['성별'].str[0]"
   ]
  },
  {
   "cell_type": "code",
   "execution_count": null,
   "id": "4c67c411",
   "metadata": {},
   "outputs": [],
   "source": [
    "# 조금 더 복잡한 조건으로 가져오기 (str 함수는 각각의 값을 가져온다)\n",
    "df[df['성별'].str[0] =='여']"
   ]
  },
  {
   "cell_type": "code",
   "execution_count": null,
   "id": "209495a4",
   "metadata": {},
   "outputs": [],
   "source": [
    "df[(df['성별'].str[0] =='여') & (df['나이'] < 30)] # and 사용 시 에러 주의"
   ]
  }
 ],
 "metadata": {
  "kernelspec": {
   "display_name": "Python 3 (ipykernel)",
   "language": "python",
   "name": "python3"
  },
  "language_info": {
   "codemirror_mode": {
    "name": "ipython",
    "version": 3
   },
   "file_extension": ".py",
   "mimetype": "text/x-python",
   "name": "python",
   "nbconvert_exporter": "python",
   "pygments_lexer": "ipython3",
   "version": "3.11.3"
  }
 },
 "nbformat": 4,
 "nbformat_minor": 5
}
